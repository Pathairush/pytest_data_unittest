{
  "nbformat": 4,
  "nbformat_minor": 0,
  "metadata": {
    "colab": {
      "name": "pytest_for_data.ipynb",
      "provenance": [],
      "collapsed_sections": [],
      "authorship_tag": "ABX9TyP6yzO9OurfNvtrFuEyvsUl",
      "include_colab_link": true
    },
    "kernelspec": {
      "name": "python3",
      "display_name": "Python 3"
    },
    "language_info": {
      "name": "python"
    }
  },
  "cells": [
    {
      "cell_type": "markdown",
      "metadata": {
        "id": "view-in-github",
        "colab_type": "text"
      },
      "source": [
        "<a href=\"https://colab.research.google.com/github/Pathairush/pytest_data_unittest/blob/main/pytest_for_data.ipynb\" target=\"_parent\"><img src=\"https://colab.research.google.com/assets/colab-badge.svg\" alt=\"Open In Colab\"/></a>"
      ]
    },
    {
      "cell_type": "code",
      "source": [
        "!apt-get install openjdk-8-jdk-headless -qq > /dev/null\n",
        "!wget -q https://downloads.apache.org/spark/spark-3.2.1/spark-3.2.1-bin-hadoop2.7.tgz\n",
        "!tar xzf spark-3.2.1-bin-hadoop2.7.tgz\n",
        "!pip install -q findspark \n",
        "!pip install -q great-expectations==0.14.13\n",
        "!pip install -q ruamel-yaml\n",
        "!pip install pytest -q\n",
        "!pip install ipytest -q"
      ],
      "metadata": {
        "id": "_cRJ0PH9Lutf"
      },
      "execution_count": 1,
      "outputs": []
    },
    {
      "cell_type": "code",
      "source": [
        "import os\n",
        "os.environ[\"JAVA_HOME\"] = \"/usr/lib/jvm/java-8-openjdk-amd64\"\n",
        "os.environ[\"SPARK_HOME\"] = \"/content/spark-3.2.1-bin-hadoop2.7\"\n",
        "\n",
        "import findspark\n",
        "findspark.init()"
      ],
      "metadata": {
        "id": "mWmRK7r1LwNo"
      },
      "execution_count": 2,
      "outputs": []
    },
    {
      "cell_type": "code",
      "source": [
        "from pyspark.sql import SparkSession\n",
        "from pyspark.sql import functions as F\n",
        "from pyspark.sql import Window\n",
        "from pyspark.sql import types as T\n",
        "import pyspark.pandas as ps\n",
        "\n",
        "# load data into a memory\n",
        "spark = (\n",
        "    SparkSession.builder\n",
        "    .master(\"local\")\n",
        "    .appName(\"colab\")\n",
        "    .config('spark.ui.port', '4050')\n",
        "    .getOrCreate()\n",
        ")"
      ],
      "metadata": {
        "colab": {
          "base_uri": "https://localhost:8080/"
        },
        "id": "fhQLVeu0MQr_",
        "outputId": "41752ea6-8285-4fea-d879-deda7f63d6bf"
      },
      "execution_count": 3,
      "outputs": [
        {
          "output_type": "stream",
          "name": "stderr",
          "text": [
            "WARNING:root:'PYARROW_IGNORE_TIMEZONE' environment variable was not set. It is required to set this environment variable to '1' in both driver and executor sides if you use pyarrow>=2.0.0. pandas-on-Spark will set it for you but it does not work if there is a Spark context already launched.\n"
          ]
        }
      ]
    },
    {
      "cell_type": "code",
      "source": [
        "import numpy as np\n",
        "import pandas as pd\n",
        "import pytest\n",
        "import ipytest\n",
        "ipytest.autoconfig()"
      ],
      "metadata": {
        "id": "AhVIy4QOPEvY"
      },
      "execution_count": 4,
      "outputs": []
    },
    {
      "cell_type": "code",
      "source": [
        "@pytest.fixture()\n",
        "def df():\n",
        "    return ps.DataFrame(\n",
        "        {\n",
        "            'a' : [1,2,3],\n",
        "            'b' : [1,2,3],\n",
        "            'c' : [1,2,3],\n",
        "         }\n",
        "    ).to_pandas()\n",
        "\n",
        "@pytest.fixture()\n",
        "def expect_df_add_col():\n",
        "    return ps.DataFrame(\n",
        "        {\n",
        "            'a' : [1,2,3],\n",
        "            'b' : [1,2,3],\n",
        "            'c' : [1,2,3],\n",
        "            'd' : [4,4,4]\n",
        "         }\n",
        "    ).to_pandas()\n",
        "    \n",
        "\n",
        "def add_col_to_df(df):\n",
        "    df['d'] = 4\n",
        "    return df\n",
        "\n",
        "def test_add_col_to_df(df, expect_df_add_col):\n",
        "    actual = add_col_to_df(df)\n",
        "    pd.testing.assert_frame_equal(actual, expect_df_add_col)"
      ],
      "metadata": {
        "id": "Mtg_LwhZOhSG"
      },
      "execution_count": 13,
      "outputs": []
    },
    {
      "cell_type": "markdown",
      "source": [
        "\n",
        "# Reference\n",
        "- [Writing tests for result api in python](https://www.ontestautomation.com/writing-tests-for-restful-apis-in-python-using-requests-part-2-data-driven-tests/#:~:text=Pytest%20supports%20data%20driven%20testing,the%20test%20data%20object%20itself.)\n",
        "- [Writing Better Code Through Testing](https://towardsdatascience.com/writing-better-code-through-testing-f3150abec6ca)\n",
        "- [Testing Best Practices for Machine Learning Libraries](https://towardsdatascience.com/testing-best-practices-for-machine-learning-libraries-41b7d0362c95)\n",
        "- [pandas.testing.assert_frame_equal](https://pandas.pydata.org/docs/reference/api/pandas.testing.assert_frame_equal.html)"
      ],
      "metadata": {
        "id": "iw5GuqNrciN3"
      }
    },
    {
      "cell_type": "code",
      "source": [
        "@pytest.fixture()\n",
        "def fund_portfolio_psdf():\n",
        "    return ps.DataFrame(\n",
        "        {\n",
        "            'customer_number' : ['110XXXXXXXXXX', '110XXXXXXXXXX', '110XXXXXXXXXX', '110XXXXXXXXXX'],\n",
        "            'fund_code' : ['A', 'B', 'C', 'D'],\n",
        "            'available_amount' : [300, 200, 100, 150]\n",
        "        }\n",
        "    )\n",
        "\n",
        "@pytest.fixture()\n",
        "def fact_customer_products():\n",
        "    return ps.DataFrame(\n",
        "        {\n",
        "            'customer_number' : ['110XXXXXXXXXX'],\n",
        "            'product_fund_list' : [['A', 'B', 'D']]\n",
        "        }\n",
        "    ).to_pandas()\n",
        "\n",
        "def get_fact_customer_products(psdf):\n",
        "    return (\n",
        "        psdf\n",
        "        .to_spark()\n",
        "        .withColumn('rank', F.rank().over(Window.partitionBy('customer_number').orderBy(F.desc('available_amount'))))\n",
        "        .filter('rank <= 3')\n",
        "        .groupby('customer_number')\n",
        "        .agg(F.array_sort(F.collect_set('fund_code')).alias('product_fund_list'))\n",
        "        .toPandas()\n",
        "    )\n",
        "\n",
        "def test_get_fact_customer_products(fund_portfolio_psdf, fact_customer_products):\n",
        "    actual = get_fact_customer_products(fund_portfolio_psdf)\n",
        "    pd.testing.assert_frame_equal(actual, fact_customer_products)"
      ],
      "metadata": {
        "id": "gksqir8LGux6"
      },
      "execution_count": 35,
      "outputs": []
    },
    {
      "cell_type": "code",
      "source": [
        "ipytest.run()"
      ],
      "metadata": {
        "colab": {
          "base_uri": "https://localhost:8080/"
        },
        "id": "3U3Ofc1iVwde",
        "outputId": "b5847bd1-723f-4f66-b068-65d390b8a77f"
      },
      "execution_count": 36,
      "outputs": [
        {
          "output_type": "stream",
          "name": "stdout",
          "text": [
            "\u001b[32m.\u001b[0m\u001b[32m.\u001b[0m\u001b[32m                                                                                           [100%]\u001b[0m\n",
            "\u001b[32m\u001b[32m\u001b[1m2 passed\u001b[0m\u001b[32m in 0.88s\u001b[0m\u001b[0m\n"
          ]
        },
        {
          "output_type": "execute_result",
          "data": {
            "text/plain": [
              "<ExitCode.OK: 0>"
            ]
          },
          "metadata": {},
          "execution_count": 36
        }
      ]
    },
    {
      "cell_type": "code",
      "source": [
        ""
      ],
      "metadata": {
        "id": "WqlZDQ5DXZZi"
      },
      "execution_count": null,
      "outputs": []
    }
  ]
}